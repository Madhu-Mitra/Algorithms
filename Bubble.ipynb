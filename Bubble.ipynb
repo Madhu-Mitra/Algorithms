{
 "cells": [
  {
   "cell_type": "markdown",
   "metadata": {},
   "source": [
    "This is bubble sort\n",
    "it takes n numbers as input and sorts them in ascending order\n",
    "time complexity - O(n^2) as the entire array needs to be iterated for every element."
   ]
  },
  {
   "cell_type": "code",
   "execution_count": 2,
   "metadata": {},
   "outputs": [
    {
     "name": "stdout",
     "output_type": "stream",
     "text": [
      "sorted list is  [-43, -25, -24, -17, -11, -10, 10, 16, 22, 27]\n"
     ]
    }
   ],
   "source": [
    "#create random input\n",
    "rand_list=[]\n",
    "import random\n",
    "for x in range(10):\n",
    "  rand_list.append(random.randint(-50,50))\n",
    "#sort function\n",
    "def bubbleSort(arr):\n",
    "    for num in range(len(arr)-1,0,-1):\n",
    "        for i in range(num):\n",
    "            if arr[i]>arr[i+1]:\n",
    "                temp = arr[i]\n",
    "                arr[i] = arr[i+1]\n",
    "                arr[i+1] = temp\n",
    "\n",
    "\n",
    "bubbleSort(rand_list)\n",
    "print(\"sorted list is \",rand_list)"
   ]
  },
  {
   "cell_type": "code",
   "execution_count": null,
   "metadata": {},
   "outputs": [],
   "source": []
  }
 ],
 "metadata": {
  "kernelspec": {
   "display_name": "Python 3",
   "language": "python",
   "name": "python3"
  },
  "language_info": {
   "codemirror_mode": {
    "name": "ipython",
    "version": 3
   },
   "file_extension": ".py",
   "mimetype": "text/x-python",
   "name": "python",
   "nbconvert_exporter": "python",
   "pygments_lexer": "ipython3",
   "version": "3.7.3"
  }
 },
 "nbformat": 4,
 "nbformat_minor": 2
}
