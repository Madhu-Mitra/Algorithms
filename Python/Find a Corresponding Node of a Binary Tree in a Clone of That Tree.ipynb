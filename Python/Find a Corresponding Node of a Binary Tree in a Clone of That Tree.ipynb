{
 "cells": [
  {
   "cell_type": "markdown",
   "metadata": {},
   "source": [
    "Given two binary trees original and cloned and given a reference to a node target in the original tree.\n",
    "\n",
    "The cloned tree is a copy of the original tree.\n",
    "\n",
    "Return a reference to the same node in the cloned tree.\n",
    "\n",
    "Note that you are not allowed to change any of the two trees or the target node and the answer must be a reference to a node in the cloned tree.\n",
    "\n",
    "Follow up: Solve the problem if repeated values on the tree are allowed.\n",
    "\n"
   ]
  },
  {
   "cell_type": "code",
   "execution_count": null,
   "metadata": {},
   "outputs": [],
   "source": [
    "class Solution:\n",
    "    def getTargetCopy(self, original: TreeNode, cloned: TreeNode, target: TreeNode) -> TreeNode:\n",
    "            org = deque([original,])\n",
    "            clone = deque([cloned,])\n",
    "\n",
    "            while org:\n",
    "                orgnode = org.popleft()\n",
    "                clonenode = clone.popleft()\n",
    "\n",
    "                if orgnode is target:\n",
    "                    return clonenode\n",
    "\n",
    "                if orgnode:\n",
    "                    org.append(orgnode.left)\n",
    "                    org.append(orgnode.right)\n",
    "\n",
    "                    clone.append(clonenode.left)\n",
    "                    clone.append(clonenode.right) "
   ]
  }
 ],
 "metadata": {
  "kernelspec": {
   "display_name": "Python 3",
   "language": "python",
   "name": "python3"
  },
  "language_info": {
   "codemirror_mode": {
    "name": "ipython",
    "version": 3
   },
   "file_extension": ".py",
   "mimetype": "text/x-python",
   "name": "python",
   "nbconvert_exporter": "python",
   "pygments_lexer": "ipython3",
   "version": "3.8.5"
  }
 },
 "nbformat": 4,
 "nbformat_minor": 4
}
