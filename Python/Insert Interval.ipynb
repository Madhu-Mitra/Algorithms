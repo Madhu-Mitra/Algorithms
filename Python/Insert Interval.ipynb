{
 "cells": [
  {
   "cell_type": "markdown",
   "metadata": {},
   "source": [
    "Given a set of non-overlapping intervals, insert a new interval into the intervals (merge if necessary).\n",
    "\n",
    "You may assume that the intervals were initially sorted according to their start times.\n",
    "\n",
    " \n",
    "\n",
    "Example 1:\n",
    "\n",
    "Input: intervals = [[1,3],[6,9]], newInterval = [2,5]\n",
    "Output: [[1,5],[6,9]]"
   ]
  },
  {
   "cell_type": "code",
   "execution_count": null,
   "metadata": {},
   "outputs": [],
   "source": [
    "class Solution:\n",
    "    def insert(self, intervals: List[List[int]], newInterval: List[int]) -> List[List[int]]:\n",
    "        lOfNo = []\n",
    "        \n",
    "        for i, interval in enumerate(intervals):\n",
    "            if interval[1] < newInterval[0]:\n",
    "                lOfNo.append(interval)\n",
    "                \n",
    "            elif newInterval[1] < interval[0]:\n",
    "                lOfNo.append(newInterval)\n",
    "                return lOfNo+intervals[i:]\n",
    "            \n",
    "            else: \n",
    "                newInterval[0] = min(newInterval[0], interval[0])\n",
    "                newInterval[1] = max(newInterval[1], interval[1])\n",
    "                \n",
    "        lOfNo.append(newInterval)\n",
    "        return lOfNo\n",
    "        "
   ]
  }
 ],
 "metadata": {
  "kernelspec": {
   "display_name": "Python 3",
   "language": "python",
   "name": "python3"
  },
  "language_info": {
   "codemirror_mode": {
    "name": "ipython",
    "version": 3
   },
   "file_extension": ".py",
   "mimetype": "text/x-python",
   "name": "python",
   "nbconvert_exporter": "python",
   "pygments_lexer": "ipython3",
   "version": "3.8.5"
  }
 },
 "nbformat": 4,
 "nbformat_minor": 4
}
