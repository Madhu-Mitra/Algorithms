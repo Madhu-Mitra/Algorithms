{
 "cells": [
  {
   "cell_type": "markdown",
   "metadata": {},
   "source": [
    "Given an integer array nums, find the contiguous subarray within an array (containing at least one number) which has the largest product."
   ]
  },
  {
   "cell_type": "code",
   "execution_count": null,
   "metadata": {},
   "outputs": [],
   "source": [
    "class Solution:\n",
    "    def maxProduct(self, nums: List[int]) -> int:\n",
    "        neg, pos, res = 0, 0, max(nums)\n",
    "        \n",
    "        for item in nums:\n",
    "            if item == 0:\n",
    "                neg, pos = 0, 0\n",
    "                continue\n",
    "            if item < 0:\n",
    "                if pos == 0: pos = item\n",
    "                else: pos *= item \n",
    "                if neg == 0: neg = 0\n",
    "                else: neg *= item \n",
    "                neg, pos = pos, neg\n",
    "            if item > 0:\n",
    "                if pos == 0: pos = item\n",
    "                else: pos *= item \n",
    "                if neg == 0: neg = 0\n",
    "                else: neg *= item \n",
    "            if pos:\n",
    "                res = max(res, pos)\n",
    "        \n",
    "        return res\n",
    "            \n",
    "        "
   ]
  }
 ],
 "metadata": {
  "kernelspec": {
   "display_name": "Python 3",
   "language": "python",
   "name": "python3"
  },
  "language_info": {
   "codemirror_mode": {
    "name": "ipython",
    "version": 3
   },
   "file_extension": ".py",
   "mimetype": "text/x-python",
   "name": "python",
   "nbconvert_exporter": "python",
   "pygments_lexer": "ipython3",
   "version": "3.8.5"
  }
 },
 "nbformat": 4,
 "nbformat_minor": 4
}
