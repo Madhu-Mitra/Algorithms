{
 "cells": [
  {
   "cell_type": "code",
   "execution_count": 12,
   "metadata": {},
   "outputs": [],
   "source": [
    "from PyPDF2 import PdfFileWriter, PdfFileReader\n"
   ]
  },
  {
   "cell_type": "code",
   "execution_count": 13,
   "metadata": {},
   "outputs": [],
   "source": [
    "def split_pdf_to_two(filename,page_number):\n",
    "    print('test')\n",
    "    pdf_reader = PdfFileReader(open(filename, \"rb\"))\n",
    "    print(pdf_reader)\n",
    "    try:\n",
    "        assert page_number < pdf_reader.numPages\n",
    "        pdf_writer1 = PdfFileWriter()\n",
    "        pdf_writer2 = PdfFileWriter()\n",
    "\n",
    "        for page in range(page_number):\n",
    "            pdf_writer1.addPage(pdf_reader.getPage(page))\n",
    "\n",
    "        for page in range(page_number,pdf_reader.getNumPages()):\n",
    "            pdf_writer2.addPage(pdf_reader.getPage(page))\n",
    "\n",
    "        with open(\"part1.pdf\", 'wb') as file1:\n",
    "            pdf_writer1.write(file1)\n",
    "\n",
    "        with open(\"part2.pdf\", 'wb') as file2:\n",
    "            pdf_writer2.write(file2)\n",
    "\n",
    "    except AssertionError as e:\n",
    "        print(\"Error: The PDF you are cutting has less pages than you want to cut!\")"
   ]
  },
  {
   "cell_type": "code",
   "execution_count": 14,
   "metadata": {},
   "outputs": [
    {
     "name": "stdout",
     "output_type": "stream",
     "text": [
      "test\n",
      "<PyPDF2.pdf.PdfFileReader object at 0x7f0e387d8610>\n"
     ]
    }
   ],
   "source": [
    "split_pdf_to_two('/home/madhu/Documents/uni docs/MItra Sir SCAN-20210315T061626Z-001/MItra Sir SCAN/cbse.pdf',2)"
   ]
  },
  {
   "cell_type": "code",
   "execution_count": null,
   "metadata": {},
   "outputs": [],
   "source": []
  }
 ],
 "metadata": {
  "kernelspec": {
   "display_name": "Python 3",
   "language": "python",
   "name": "python3"
  },
  "language_info": {
   "codemirror_mode": {
    "name": "ipython",
    "version": 3
   },
   "file_extension": ".py",
   "mimetype": "text/x-python",
   "name": "python",
   "nbconvert_exporter": "python",
   "pygments_lexer": "ipython3",
   "version": "3.8.5"
  }
 },
 "nbformat": 4,
 "nbformat_minor": 4
}
