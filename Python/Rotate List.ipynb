{
 "cells": [
  {
   "cell_type": "markdown",
   "metadata": {},
   "source": [
    "Given the head of a linked list, rotate the list to the right by k places."
   ]
  },
  {
   "cell_type": "code",
   "execution_count": null,
   "metadata": {},
   "outputs": [],
   "source": [
    "\n",
    "class Solution:\n",
    "    def rotateRight(self, head: ListNode, k: int) -> ListNode:\n",
    "        node=head\n",
    "        count=0\n",
    "        lsR=None\n",
    "        lsL=head\n",
    "        if(head==None):\n",
    "            return head\n",
    "        while(node!=None):\n",
    "            node=node.next\n",
    "            count=count+1\n",
    "        k=k%count\n",
    "        \n",
    "        if(k==0):\n",
    "            return head\n",
    "        k=count-k\n",
    "        node=head\n",
    "        for i in range(0,k-1):\n",
    "            node=node.next\n",
    "         \n",
    "        lsL=node1=node.next\n",
    "        \n",
    "        node.next=lsR\n",
    "        \n",
    "        while node1.next:\n",
    "            \n",
    "            node1=node1.next\n",
    "        node1.next=head\n",
    "        head=lsL\n",
    "        return head\n"
   ]
  }
 ],
 "metadata": {
  "kernelspec": {
   "display_name": "Python 3",
   "language": "python",
   "name": "python3"
  },
  "language_info": {
   "codemirror_mode": {
    "name": "ipython",
    "version": 3
   },
   "file_extension": ".py",
   "mimetype": "text/x-python",
   "name": "python",
   "nbconvert_exporter": "python",
   "pygments_lexer": "ipython3",
   "version": "3.8.5"
  }
 },
 "nbformat": 4,
 "nbformat_minor": 4
}
