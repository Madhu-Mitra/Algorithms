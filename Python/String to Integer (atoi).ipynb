{
 "cells": [
  {
   "cell_type": "markdown",
   "metadata": {},
   "source": [
    "Question: Implement atoi which converts a string to an integer.\n",
    "\n",
    "The function first discards as many whitespace characters as necessary until the first non-whitespace character is found. Then, starting from this character takes an optional initial plus or minus sign followed by as many numerical digits as possible, and interprets them as a numerical value.\n",
    "\n",
    "The string can contain additional characters after those that form the integral number, which are ignored and have no effect on the behavior of this function.\n",
    "\n",
    "If the first sequence of non-whitespace characters in str is not a valid integral number, or if no such sequence exists because either str is empty or it contains only whitespace characters, no conversion is performed.\n",
    "\n",
    "If no valid conversion could be performed, a zero value is returned.\n",
    "\n",
    "Note:\n",
    "\n",
    "Only the space character ' ' is considered a whitespace character.\n",
    "Assume we are dealing with an environment that could only store integers within the 32-bit signed integer range: [−231,  231 − 1]. If the numerical value is out of the range of representable values, 231 − 1 or −231 is returned."
   ]
  },
  {
   "cell_type": "code",
   "execution_count": null,
   "metadata": {},
   "outputs": [],
   "source": [
    "class Solution:\n",
    "    def myAtoi(self, s: str) -> int:\n",
    "        s=s.strip()\n",
    "        no=0\n",
    "        neg=False\n",
    "        start=0\n",
    "        if not s or s[0].isalpha():\n",
    "            return 0\n",
    "        \n",
    "        if(s[0]=='-'):\n",
    "            neg=True\n",
    "            start=1\n",
    "        elif(s[0]==\"+\"):\n",
    "            start=1\n",
    "        \n",
    "        for i in range(start,len(s)):\n",
    "            if(s[i].isdigit()):\n",
    "                no=(no*(10))+int(s[i])\n",
    "            else:\n",
    "                break\n",
    "            \n",
    "                    \n",
    "            \n",
    "            \n",
    "        INT_MAX = (2 ** 31) - 1\n",
    "        INT_MIN = (2 ** 31)\n",
    "        if neg:\n",
    "            if no > INT_MIN:\n",
    "                return -INT_MIN\n",
    "            else:\n",
    "                return -no\n",
    "        else:\n",
    "            if no > INT_MAX:\n",
    "                return INT_MAX\n",
    "            else:\n",
    "                return no"
   ]
  }
 ],
 "metadata": {
  "kernelspec": {
   "display_name": "Python 3",
   "language": "python",
   "name": "python3"
  },
  "language_info": {
   "codemirror_mode": {
    "name": "ipython",
    "version": 3
   },
   "file_extension": ".py",
   "mimetype": "text/x-python",
   "name": "python",
   "nbconvert_exporter": "python",
   "pygments_lexer": "ipython3",
   "version": "3.8.5"
  }
 },
 "nbformat": 4,
 "nbformat_minor": 4
}
