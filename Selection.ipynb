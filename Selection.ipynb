{
 "cells": [
  {
   "cell_type": "markdown",
   "metadata": {},
   "source": [
    "The Selection sort algorithm is based on the idea of finding the minimum or maximum element in an unsorted array and then putting it in its correct position in a sorted array.\n",
    "time complexity O(N^2)"
   ]
  },
  {
   "cell_type": "code",
   "execution_count": 14,
   "metadata": {},
   "outputs": [
    {
     "name": "stdout",
     "output_type": "stream",
     "text": [
      "Input list is  [-14, 44, 22, -48, -35, -4, 4, 3, -27, -48]\n",
      "sorted list is  [-48, -48, -35, -27, -14, -4, 3, 4, 22, 44]\n"
     ]
    }
   ],
   "source": [
    "#create random input\n",
    "rand_list=[]\n",
    "import random\n",
    "for x in range(10):\n",
    "  rand_list.append(random.randint(-50,50))\n",
    "print(\"Input list is \",rand_list)\n",
    "#sort function\n",
    "def selectionSort(arr):\n",
    "   for fillslot in range(len(arr)-1,0,-1):\n",
    "       maxpos=0\n",
    "       for location in range(1,fillslot+1):\n",
    "           if arr[location]>arr[maxpos]:\n",
    "               maxpos = location\n",
    "\n",
    "       temp = arr[fillslot]\n",
    "       arr[fillslot] = arr[maxpos]\n",
    "       arr[maxpos] = temp\n",
    "\n",
    "\n",
    "selectionSort(rand_list)\n",
    "print(\"sorted list is \",rand_list)"
   ]
  },
  {
   "cell_type": "code",
   "execution_count": null,
   "metadata": {},
   "outputs": [],
   "source": []
  }
 ],
 "metadata": {
  "kernelspec": {
   "display_name": "Python 3",
   "language": "python",
   "name": "python3"
  },
  "language_info": {
   "codemirror_mode": {
    "name": "ipython",
    "version": 3
   },
   "file_extension": ".py",
   "mimetype": "text/x-python",
   "name": "python",
   "nbconvert_exporter": "python",
   "pygments_lexer": "ipython3",
   "version": "3.7.3"
  }
 },
 "nbformat": 4,
 "nbformat_minor": 2
}
