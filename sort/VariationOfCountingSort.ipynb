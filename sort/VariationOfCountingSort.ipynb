{
 "cells": [
  {
   "cell_type": "markdown",
   "metadata": {},
   "source": [
    "This is a variation of counting sort which is used to when the range of the elements is known. The range for this code is 0-9\n",
    "Here the time complexity is O(N*K) where n is the number of elements in the array to be sorted and K is the range of elements"
   ]
  },
  {
   "cell_type": "code",
   "execution_count": 108,
   "metadata": {},
   "outputs": [
    {
     "name": "stdout",
     "output_type": "stream",
     "text": [
      "Input list is  [8, 0, 5, 9, 5]\n"
     ]
    }
   ],
   "source": [
    "rand_list=[]\n",
    "import random\n",
    "for x in range(5):\n",
    "    rand_list.append(random.randint(0,9))\n",
    "print(\"Input list is \",rand_list)\n",
    "\n",
    " \n",
    "arr = [0] * 10\n",
    "for i in rand_list:\n",
    "    arr[i]+=1\n",
    "\n",
    "Output_array=[0]*len(rand_list)   "
   ]
  },
  {
   "cell_type": "code",
   "execution_count": 109,
   "metadata": {},
   "outputs": [
    {
     "name": "stdout",
     "output_type": "stream",
     "text": [
      "1\n",
      "3\n",
      "4\n",
      "5\n",
      "[0, 5, 5, 8, 9]\n"
     ]
    }
   ],
   "source": [
    "count=0\n",
    "temp=0\n",
    "for i in range(0,len(arr)):\n",
    "\n",
    "    \n",
    "    if arr[i] >0:\n",
    "        \n",
    "        temp+=arr[i]\n",
    "        print(temp)\n",
    "        while count<temp:\n",
    "            Output_array[count]=i\n",
    "            count+=1\n",
    "        \n",
    "    \n",
    "print(Output_array)      "
   ]
  },
  {
   "cell_type": "code",
   "execution_count": null,
   "metadata": {},
   "outputs": [],
   "source": []
  }
 ],
 "metadata": {
  "kernelspec": {
   "display_name": "Python 3",
   "language": "python",
   "name": "python3"
  },
  "language_info": {
   "codemirror_mode": {
    "name": "ipython",
    "version": 3
   },
   "file_extension": ".py",
   "mimetype": "text/x-python",
   "name": "python",
   "nbconvert_exporter": "python",
   "pygments_lexer": "ipython3",
   "version": "3.7.3"
  }
 },
 "nbformat": 4,
 "nbformat_minor": 2
}
