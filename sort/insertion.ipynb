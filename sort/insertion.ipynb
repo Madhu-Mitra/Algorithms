{
 "cells": [
  {
   "cell_type": "markdown",
   "metadata": {},
   "source": [
    "Insertion sort is based on the idea that one element from the input elements is consumed in each iteration to find its correct position i.e, the position to which it belongs in a sorted array."
   ]
  },
  {
   "cell_type": "code",
   "execution_count": 10,
   "metadata": {},
   "outputs": [
    {
     "name": "stdout",
     "output_type": "stream",
     "text": [
      "Input list is  [47, 16, 22, -1, 8, -50, -29, 47, -32, -34]\n",
      "sorted list is  [-50, -34, -32, -29, -1, 8, 16, 22, 47, 47]\n"
     ]
    }
   ],
   "source": [
    "\n",
    "rand_list=[]\n",
    "import random\n",
    "for x in range(10):\n",
    "  rand_list.append(random.randint(-50,50))\n",
    "\n",
    "print(\"Input list is \",rand_list)\n",
    "def insertionSort(nlist):\n",
    "   for index in range(1,len(nlist)):\n",
    "\n",
    "     currentvalue = nlist[index]\n",
    "     position = index\n",
    "\n",
    "     while position>0 and nlist[position-1]>currentvalue:\n",
    "         nlist[position]=nlist[position-1]\n",
    "         position = position-1\n",
    "\n",
    "     nlist[position]=currentvalue\n",
    "\n",
    "\n",
    "insertionSort(rand_list)\n",
    "print(\"sorted list is \",rand_list)"
   ]
  },
  {
   "cell_type": "code",
   "execution_count": 2,
   "metadata": {},
   "outputs": [
    {
     "name": "stdout",
     "output_type": "stream",
     "text": [
      "[-31, -33, -26, 2, 0, 26, 46, -21, -3, -20]\n"
     ]
    }
   ],
   "source": []
  },
  {
   "cell_type": "code",
   "execution_count": null,
   "metadata": {},
   "outputs": [],
   "source": []
  }
 ],
 "metadata": {
  "kernelspec": {
   "display_name": "Python 3",
   "language": "python",
   "name": "python3"
  },
  "language_info": {
   "codemirror_mode": {
    "name": "ipython",
    "version": 3
   },
   "file_extension": ".py",
   "mimetype": "text/x-python",
   "name": "python",
   "nbconvert_exporter": "python",
   "pygments_lexer": "ipython3",
   "version": "3.7.3"
  }
 },
 "nbformat": 4,
 "nbformat_minor": 2
}
