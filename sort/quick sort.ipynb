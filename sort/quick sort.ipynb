{
 "cells": [
  {
   "cell_type": "markdown",
   "metadata": {},
   "source": [
    "Quick sort is based on the divide-and-conquer approac. One element is chosen as a pivot element and the list is partitioned around it such that: Left side of pivot contains all the elements that are less than the pivot element Right side contains all elements greater than the pivot. "
   ]
  },
  {
   "cell_type": "code",
   "execution_count": 5,
   "metadata": {},
   "outputs": [
    {
     "name": "stdout",
     "output_type": "stream",
     "text": [
      "Input list is  [50, 8, -38, 14, -10, 22, -31, -46, 40, -20]\n",
      "sorted list is  [-46, -38, -31, -20, -10, 8, 14, 22, 40, 50]\n"
     ]
    }
   ],
   "source": [
    "rand_list=[]\n",
    "import random\n",
    "for x in range(10):\n",
    "  rand_list.append(random.randint(-50,50))\n",
    "print(\"Input list is \",rand_list)\n",
    "def quickSort(data_list):\n",
    "   quickSortHlp(data_list,0,len(data_list)-1)\n",
    "\n",
    "def quickSortHlp(data_list,first,last):\n",
    "   if first < last:\n",
    "\n",
    "       splitpoint = partition(data_list,first,last)\n",
    "\n",
    "       quickSortHlp(data_list,first,splitpoint-1)\n",
    "       quickSortHlp(data_list,splitpoint+1,last)\n",
    "\n",
    "\n",
    "def partition(data_list,first,last):\n",
    "   pivotvalue = data_list[first]\n",
    "\n",
    "   leftmark = first+1\n",
    "   rightmark = last\n",
    "\n",
    "   done = False\n",
    "   while not done:\n",
    "\n",
    "       while leftmark <= rightmark and data_list[leftmark] <= pivotvalue:\n",
    "           leftmark = leftmark + 1\n",
    "\n",
    "       while data_list[rightmark] >= pivotvalue and rightmark >= leftmark:\n",
    "           rightmark = rightmark -1\n",
    "\n",
    "       if rightmark < leftmark:\n",
    "           done = True\n",
    "       else:\n",
    "           temp = data_list[leftmark]\n",
    "           data_list[leftmark] = data_list[rightmark]\n",
    "           data_list[rightmark] = temp\n",
    "\n",
    "   temp = data_list[first]\n",
    "   data_list[first] = data_list[rightmark]\n",
    "   data_list[rightmark] = temp\n",
    "\n",
    "\n",
    "   return rightmark\n",
    "\n",
    "\n",
    "quickSort(rand_list)\n",
    "print(\"sorted list is \",rand_list)"
   ]
  },
  {
   "cell_type": "code",
   "execution_count": null,
   "metadata": {},
   "outputs": [],
   "source": []
  },
  {
   "cell_type": "code",
   "execution_count": null,
   "metadata": {},
   "outputs": [],
   "source": []
  }
 ],
 "metadata": {
  "kernelspec": {
   "display_name": "Python 3",
   "language": "python",
   "name": "python3"
  },
  "language_info": {
   "codemirror_mode": {
    "name": "ipython",
    "version": 3
   },
   "file_extension": ".py",
   "mimetype": "text/x-python",
   "name": "python",
   "nbconvert_exporter": "python",
   "pygments_lexer": "ipython3",
   "version": "3.7.3"
  }
 },
 "nbformat": 4,
 "nbformat_minor": 2
}
